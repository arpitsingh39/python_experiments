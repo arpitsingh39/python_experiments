{
 "cells": [
  {
   "cell_type": "markdown",
   "id": "7b72c430-a60d-416e-860e-817de391890e",
   "metadata": {},
   "source": [
    "### Arpit Singh SE3_S2_37"
   ]
  },
  {
   "cell_type": "code",
   "execution_count": 4,
   "id": "13c9bc4b-b830-4108-ac63-0a25aa3a2865",
   "metadata": {},
   "outputs": [
    {
     "name": "stdout",
     "output_type": "stream",
     "text": [
      "Requirement already satisfied: numpy in c:\\users\\student\\appdata\\local\\programs\\python\\python313\\lib\\site-packages (2.2.3)\n",
      "Note: you may need to restart the kernel to use updated packages.\n"
     ]
    },
    {
     "name": "stderr",
     "output_type": "stream",
     "text": [
      "\n",
      "[notice] A new release of pip is available: 24.3.1 -> 25.0.1\n",
      "[notice] To update, run: C:\\Users\\student\\AppData\\Local\\Programs\\Python\\Python313\\python.exe -m pip install --upgrade pip\n"
     ]
    }
   ],
   "source": [
    "pip install numpy "
   ]
  },
  {
   "cell_type": "code",
   "execution_count": 9,
   "id": "25f5333e-85e8-4c26-babb-febf31cd6101",
   "metadata": {},
   "outputs": [
    {
     "name": "stdout",
     "output_type": "stream",
     "text": [
      "Pi: 3.141592653589793\n",
      "Euler's Number: 2.718281828459045\n",
      "Sin(45 degrees): 0.7071067811865476\n",
      "Cos(45 degrees): 0.7071067811865476\n",
      "Tan(45 degrees): 0.9999999999999999\n",
      "Exponential of 2: 7.38905609893065\n",
      "Natural Log of 10: 2.302585092994046\n",
      "Log base 10 of 100: 2.0\n",
      "Log base 2 of 8: 3.0\n",
      "Ceil of 4.3: 5.0\n",
      "Floor of 4.7: 4.0\n",
      "Round 4.5: 4.0\n",
      "Random Number [0,1]: 0.8449787141973178\n",
      "Random Integer [1,10]: 2\n",
      "Mean: 5.0\n",
      "Median: 5.0\n",
      "Standard Deviation: 2.581988897471611\n",
      "Variance: 6.666666666666667\n",
      "GCD of 24 and 36: 12\n",
      "LCM of 6 and 8: 24\n",
      "Factorial of 5: 120\n",
      "2 to the power of 3: 8\n"
     ]
    }
   ],
   "source": [
    "import numpy as np\n",
    "import math\n",
    "\n",
    "print(\"Pi:\", np.pi)\n",
    "print(\"Euler's Number:\", np.e)\n",
    "\n",
    "angle_rad = np.deg2rad(45)\n",
    "print(\"Sin(45 degrees):\", np.sin(angle_rad))\n",
    "print(\"Cos(45 degrees):\", np.cos(angle_rad))\n",
    "print(\"Tan(45 degrees):\", np.tan(angle_rad))\n",
    "\n",
    "print(\"Exponential of 2:\", np.exp(2))\n",
    "print(\"Natural Log of 10:\", np.log(10))\n",
    "print(\"Log base 10 of 100:\", np.log10(100))\n",
    "print(\"Log base 2 of 8:\", np.log2(8))\n",
    "\n",
    "print(\"Ceil of 4.3:\", np.ceil(4.3))\n",
    "print(\"Floor of 4.7:\", np.floor(4.7))\n",
    "print(\"Round 4.5:\", np.round(4.5))\n",
    "\n",
    "print(\"Random Number [0,1]:\", np.random.rand())\n",
    "print(\"Random Integer [1,10]:\", np.random.randint(1, 11))\n",
    "\n",
    "data = [1, 2, 3, 4, 5, 6, 7, 8, 9]\n",
    "print(\"Mean:\", np.mean(data))\n",
    "print(\"Median:\", np.median(data))\n",
    "print(\"Standard Deviation:\", np.std(data))\n",
    "print(\"Variance:\", np.var(data))\n",
    "\n",
    "print(\"GCD of 24 and 36:\", np.gcd(24, 36))\n",
    "print(\"LCM of 6 and 8:\", np.lcm(6, 8))\n",
    "\n",
    "print(\"Factorial of 5:\", math.factorial(5))\n",
    "print(\"2 to the power of 3:\", np.power(2, 3))"
   ]
  },
  {
   "cell_type": "code",
   "execution_count": null,
   "id": "959b9ee7-6c7e-4827-b664-df409132ea78",
   "metadata": {},
   "outputs": [],
   "source": []
  },
  {
   "cell_type": "code",
   "execution_count": null,
   "id": "ba954fc8-a78f-44cd-9af1-21b2f0312296",
   "metadata": {},
   "outputs": [],
   "source": []
  }
 ],
 "metadata": {
  "kernelspec": {
   "display_name": "Python 3 (ipykernel)",
   "language": "python",
   "name": "python3"
  },
  "language_info": {
   "codemirror_mode": {
    "name": "ipython",
    "version": 3
   },
   "file_extension": ".py",
   "mimetype": "text/x-python",
   "name": "python",
   "nbconvert_exporter": "python",
   "pygments_lexer": "ipython3",
   "version": "3.13.2"
  }
 },
 "nbformat": 4,
 "nbformat_minor": 5
}
