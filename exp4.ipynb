{
 "cells": [
  {
   "cell_type": "markdown",
   "id": "5e87b173-6573-421f-be7d-9a86ab018da8",
   "metadata": {},
   "source": [
    "### ARPIT SINGH SE3_S2_37\n",
    "### THIS IS EXPERIMENT 4"
   ]
  },
  {
   "cell_type": "code",
   "execution_count": 4,
   "id": "339e7299-f59b-43b8-8b95-213766c467c1",
   "metadata": {},
   "outputs": [
    {
     "name": "stdout",
     "output_type": "stream",
     "text": [
      "HELLO! THIS IS ARPIT \n",
      "HELLO! THIS IS ARPIT SINGH\n"
     ]
    }
   ],
   "source": [
    "from contextlib import contextmanager\n",
    "\n",
    "@contextmanager\n",
    "def genericFileFunction (filename, method):\n",
    "    file = open (filename, method)\n",
    "    yield file\n",
    "    file.close ()\n",
    "\n",
    "if __name__ == '__main__':\n",
    "    #writing in a file\n",
    "    with genericFileFunction('test.txt', 'w') as f:\n",
    "        f.write('HELLO! THIS IS ARPIT ')\n",
    "        \n",
    "    #reading in a file\n",
    "    with genericFileFunction('test.txt', 'r') as f:\n",
    "        print(f.read())\n",
    "\n",
    "    #appending \n",
    "    with genericFileFunction('test.txt', 'a') as f:\n",
    "        append = f.write(\"SINGH\")\n",
    "\n",
    "    with genericFileFunction('test.txt', 'r') as f:\n",
    "        append = f.read()\n",
    "\n",
    "    print(append)\n",
    "\n",
    "    \n",
    "\n",
    "    # Remove the pass and call the function to perform write.\n",
    "    # Read the file that was created while writing.\n",
    "    # Make the changes in the file by appending some material.\n",
    "    # Again read the same file.\n",
    "\n",
    "    '''\n",
    "    Print all the output of the function.\n",
    "    For better representation, please use jupyter.\n",
    "    Will also aid in easy maintanence of files for submissions.\n",
    "    '''"
   ]
  },
  {
   "cell_type": "code",
   "execution_count": null,
   "id": "2fd0e371-9141-403c-9c2a-9cfc320988a5",
   "metadata": {},
   "outputs": [],
   "source": []
  }
 ],
 "metadata": {
  "kernelspec": {
   "display_name": "Python 3 (ipykernel)",
   "language": "python",
   "name": "python3"
  },
  "language_info": {
   "codemirror_mode": {
    "name": "ipython",
    "version": 3
   },
   "file_extension": ".py",
   "mimetype": "text/x-python",
   "name": "python",
   "nbconvert_exporter": "python",
   "pygments_lexer": "ipython3",
   "version": "3.11.9"
  }
 },
 "nbformat": 4,
 "nbformat_minor": 5
}
