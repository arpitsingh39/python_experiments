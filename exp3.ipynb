{
  "nbformat": 4,
  "nbformat_minor": 0,
  "metadata": {
    "colab": {
      "provenance": []
    },
    "kernelspec": {
      "name": "python3",
      "display_name": "Python 3"
    },
    "language_info": {
      "name": "python"
    }
  },
  "cells": [
    {
      "cell_type": "markdown",
      "source": [
        "Arpit Singh SE3_S2_37"
      ],
      "metadata": {
        "id": "g34l2BIBYfst"
      }
    },
    {
      "cell_type": "code",
      "source": [
        "class Employee:\n",
        "    def __init__ (\n",
        "            self,\n",
        "            designation : str = 'Developer',\n",
        "            frontend : bool = False,\n",
        "            backend : bool = False\n",
        "    ):\n",
        "        self.designation = designation\n",
        "        self.frontend = frontend\n",
        "        self.backend = backend\n",
        "\n",
        "    def __repr__ (self):\n",
        "        return 'Designation: {}, Frontend: {}, Backend: {}'.format(self.designation, self.frontend, self.backend)\n",
        "\n",
        "    ### Write your method over here.\n",
        "    def verifier (self):\n",
        "        if self.frontend and self.backend:\n",
        "            return 'full stack developer'\n",
        "        elif self.frontend:\n",
        "            return 'frontend developer'\n",
        "        elif self.backend:\n",
        "            return 'backend developer'\n",
        "        else:\n",
        "            return 'not a developer'\n",
        "\n",
        "if __name__ == '__main__':\n",
        "    firstEmployee = Employee(frontend=True, backend=True)\n",
        "    secondEmployee = Employee(frontend=True, backend=False)\n",
        "    thirdEmployee = Employee(frontend=False, backend=True)\n",
        "    fourthEmployee = Employee(frontend=False, backend=False)\n",
        "\n",
        "    # Call the verifier method here to display output.\n",
        "    print(firstEmployee.verifier())  # full stack developer\n",
        "    print(secondEmployee.verifier())  # frontend developer\n",
        "    print(thirdEmployee.verifier())  # backend developer\n",
        "    print(fourthEmployee.verifier())  # not a developer\n"
      ],
      "metadata": {
        "id": "CutGO9XFYN_e"
      },
      "execution_count": null,
      "outputs": []
    }
  ]
}
