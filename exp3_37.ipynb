'''
General case represents that developer working on 
frontend cannot work backend development unless he/she is fullstack dev.

Write a method named verifier () that checks this condition.

The method should check that if frontend is True and backend is True,
the method returns Fullstack as string. If one of them is True, it should return
the respective desgination, and if none of them are true, it returns,
not a developer respetively.
'''

class Employee:
    def __init__ (
            self,
            designation : str = 'Developer',
            frontend : bool = False,
            backend : bool = False
    ):
        self.designation = designation
        self.frontend = frontend
        self.backend = backend

    def __repr__ (self):
        return '{}'.format (self.designation, self.frontend, self.backend)
    
    ### Write the your method over here.
    def verifier (self):
        
        if self.frontend and self.backend:
            return 'full stack developer'
        elif self.frontend:
            return 'frontend developer'
        elif self.backend:
            return 'backend developer'
        else:
            return 'not a developer'

if __name__ == '__main__':
    firstEmployee = Employee (frontend=True , backend =True)
    secondEmployee = Employee(frontend=True , backend =False)
    thirdEmployee = Employee(frontend =False , backend = True)
    fourthEmployee = Employee(frontend =False ,backend = False)   
    print(firstEmployee.verifier())
    print(secondEmployee.verifier())
    print(thirdEmployee.verifier())
    print(fourthEmployee.verifier()) 
    # Call the method here to display output.
