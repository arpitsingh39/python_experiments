{
 "cells": [
  {
   "cell_type": "code",
   "execution_count": null,
   "id": "a7c26a94-3ddb-49a4-b363-8b0058978f08",
   "metadata": {},
   "outputs": [],
   "source": [
    "'''\n",
    "Given a string 's' consisting of only the characters 'a' and 'b', return true if every 'a' appears before every 'b' in the string.\n",
    "Otherwise, return false.\n",
    "\n",
    "Example 1:\n",
    "Input: s = \"aaabbb\"\n",
    "Output: true\n",
    "Explanation:\n",
    "The 'a's are at indices 0, 1, and 2, while the 'b's are at indices 3, 4, and 5.\n",
    "Hence, every 'a' appears before every 'b' and we return true.\n",
    "\n",
    "Example 2:\n",
    "Input: s = \"abab\"\n",
    "Output: false\n",
    "Explanation:\n",
    "There is an 'a' at index 2 and a 'b' at index 1.\n",
    "Hence, not every 'a' appears before every 'b' and we return false.\n",
    "\n",
    "Example 3:\n",
    "Input: s = \"bbb\"\n",
    "Output: true\n",
    "Explanation:\n",
    "There are no 'a's, hence, every 'a' appears before every 'b' and we return true.\n",
    "'''"
   ]
  },
  {
   "cell_type": "code",
   "execution_count": 11,
   "id": "a47fe35c-3daa-4bf5-b252-6c47b51d7abd",
   "metadata": {},
   "outputs": [
    {
     "name": "stdin",
     "output_type": "stream",
     "text": [
      "Enter a string consisting of only 'a' and 'b':  ababab\n"
     ]
    },
    {
     "name": "stdout",
     "output_type": "stream",
     "text": [
      "Output: False\n"
     ]
    }
   ],
   "source": [
    "def a_and_b_alphabets(s):\n",
    "    last_a_index = -1\n",
    "    first_b_index = len(s)\n",
    "    \n",
    "    for i, char in enumerate(s):\n",
    "        if char == 'a':\n",
    "            last_a_index = i\n",
    "        elif char == 'b' and first_b_index == len(s):\n",
    "            first_b_index = i\n",
    "    \n",
    "    # If no 'a's or no 'b's, return True\n",
    "    if last_a_index == -1 or first_b_index == len(s):\n",
    "        return True\n",
    "    \n",
    "    # Check if the last 'a' is before the first 'b'\n",
    "    return last_a_index < first_b_index\n",
    "\n",
    "# Take user input\n",
    "s = input(\"Enter a string consisting of only 'a' and 'b': \")\n",
    "\n",
    "# Validate input (optional: ensure the string contains only 'a' and 'b')\n",
    "if not all(char in {'a', 'b'} for char in s):\n",
    "    print(\"Invalid input! The string should only contain 'a' and 'b'.\")\n",
    "else:\n",
    "    # Call the function and print the result\n",
    "    result = a_and_b(s)\n",
    "    print(\"Output:\", result)"
   ]
  },
  {
   "cell_type": "code",
   "execution_count": null,
   "id": "b38a887d-6851-4bf1-a103-62b50c043d8a",
   "metadata": {},
   "outputs": [],
   "source": []
  }
 ],
 "metadata": {
  "kernelspec": {
   "display_name": "Python 3 (ipykernel)",
   "language": "python",
   "name": "python3"
  },
  "language_info": {
   "codemirror_mode": {
    "name": "ipython",
    "version": 3
   },
   "file_extension": ".py",
   "mimetype": "text/x-python",
   "name": "python",
   "nbconvert_exporter": "python",
   "pygments_lexer": "ipython3",
   "version": "3.13.2"
  }
 },
 "nbformat": 4,
 "nbformat_minor": 5
}
